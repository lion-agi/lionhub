{
 "cells": [
  {
   "cell_type": "code",
   "execution_count": null,
   "metadata": {},
   "outputs": [],
   "source": [
    "# %pip install pandas, finnhub-python, yfinance"
   ]
  },
  {
   "cell_type": "code",
   "execution_count": null,
   "metadata": {},
   "outputs": [],
   "source": [
    "# you need a finnhub api key, save in .env as FINNHUB_API_KEY=....\n",
    "\n",
    "tickers = ['AAPL', 'TSLA', 'JPM', 'V']\n",
    "from_, to_ = '2023-01-01', '2024-01-01'"
   ]
  },
  {
   "cell_type": "markdown",
   "metadata": {},
   "source": [
    "# 1. finnhub\n",
    "\n",
    "get company info, check documentation: [here](https://github.com/Finnhub-Stock-API/finnhub-python)"
   ]
  },
  {
   "cell_type": "markdown",
   "metadata": {},
   "source": [
    "### company news"
   ]
  },
  {
   "cell_type": "code",
   "execution_count": null,
   "metadata": {},
   "outputs": [],
   "source": [
    "import pandas as pd"
   ]
  },
  {
   "cell_type": "code",
   "execution_count": null,
   "metadata": {},
   "outputs": [],
   "source": [
    "from lionhub.data_source.finnhub import FinnHub as finn\n",
    "\n",
    "dfs = [\n",
    "    finn.get_info_df(info_kind=\"company_news\", symbnol=ticker, from_=from_, to=to_) \n",
    "    for ticker in tickers\n",
    "]\n",
    "\n",
    "dfs_news = pd.concat(dfs)\n",
    "dfs_news.drop_duplicates(subset=['headline'], inplace=True, ignore_index=True)"
   ]
  },
  {
   "cell_type": "code",
   "execution_count": null,
   "metadata": {},
   "outputs": [],
   "source": [
    "dfs_news.head()"
   ]
  },
  {
   "cell_type": "markdown",
   "metadata": {},
   "source": [
    "### company profile"
   ]
  },
  {
   "cell_type": "code",
   "execution_count": null,
   "metadata": {},
   "outputs": [],
   "source": [
    "dfs = [\n",
    "    finn.get_info_df(info_kind=\"company_profile\", symbnol=ticker) \n",
    "    for ticker in tickers\n",
    "]\n",
    "\n",
    "dfs_profiles = pd.concat(dfs)"
   ]
  },
  {
   "cell_type": "code",
   "execution_count": null,
   "metadata": {},
   "outputs": [],
   "source": [
    "dfs_profiles.head()"
   ]
  },
  {
   "cell_type": "markdown",
   "metadata": {},
   "source": [
    "# 2. yfinance"
   ]
  },
  {
   "cell_type": "code",
   "execution_count": null,
   "metadata": {},
   "outputs": [],
   "source": [
    "from lionhub.data_source.yfinance import get_stock_prices\n",
    "\n",
    "histories = [\n",
    "    get_stock_prices(ticker, start_date=from_, end_date = to_) \n",
    "    for ticker in tickers\n",
    "    ]"
   ]
  },
  {
   "cell_type": "code",
   "execution_count": null,
   "metadata": {},
   "outputs": [],
   "source": [
    "histories[0]"
   ]
  }
 ],
 "metadata": {
  "language_info": {
   "name": "python"
  }
 },
 "nbformat": 4,
 "nbformat_minor": 2
}
