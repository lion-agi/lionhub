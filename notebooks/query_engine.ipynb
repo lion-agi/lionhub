{
 "cells": [
  {
   "cell_type": "markdown",
   "metadata": {},
   "source": [
    "## 1. PandasQuery"
   ]
  },
  {
   "cell_type": "code",
   "execution_count": null,
   "metadata": {},
   "outputs": [],
   "source": [
    "from lionhub.query_engine import PandasQuery\n",
    "\n",
    "df = [...]\n",
    "query = \"...\"\n",
    "\n",
    "pd_engine = PandasQuery(df=df)\n",
    "pd_engine.query(query)"
   ]
  },
  {
   "cell_type": "markdown",
   "metadata": {},
   "source": [
    "## 2. SmallToBig Engine"
   ]
  },
  {
   "cell_type": "code",
   "execution_count": null,
   "metadata": {},
   "outputs": [],
   "source": [
    "from lionhub.query_engine import SmallToBig_engine\n",
    "\n",
    "llama_textnodes = [...]\n",
    "query = \"...\"\n",
    "\n",
    "small2big_engine = SmallToBig_engine(textnodes=llama_textnodes)\n",
    "small2big_engine.run(query)"
   ]
  },
  {
   "cell_type": "markdown",
   "metadata": {},
   "source": [
    "## 3. Stock Price Engine"
   ]
  },
  {
   "cell_type": "code",
   "execution_count": null,
   "metadata": {},
   "outputs": [],
   "source": [
    "from lionhub.query_engine import stock_price_engine\n",
    "\n",
    "stock_prices = [...]\n",
    "symbols = [...]\n",
    "query = \"...\"\n",
    "\n",
    "stock_price_engine = stock_price_engine(stock_prices=stock_prices, symbols=symbols)\n",
    "stock_price_engine.query(query)"
   ]
  }
 ],
 "metadata": {
  "language_info": {
   "name": "python"
  }
 },
 "nbformat": 4,
 "nbformat_minor": 2
}
