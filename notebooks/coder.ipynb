{
 "cells": [
  {
   "cell_type": "code",
   "execution_count": null,
   "metadata": {},
   "outputs": [],
   "source": [
    "from lionhub.coder.autogen import auto_coder\n",
    "\n",
    "task = \"\"\"\n",
    "compare the performance of TSLA and AAPL from 2023-01-01 to 2023-12-31, and plot the result\n",
    "\"\"\"\n",
    "\n",
    "messages = auto_coder(task=task, kernal=\"ipython\")"
   ]
  }
 ],
 "metadata": {
  "language_info": {
   "name": "python"
  }
 },
 "nbformat": 4,
 "nbformat_minor": 2
}
