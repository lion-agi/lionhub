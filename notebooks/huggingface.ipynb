{
 "cells": [
  {
   "cell_type": "markdown",
   "metadata": {},
   "source": [
    "## 1. Classifier"
   ]
  },
  {
   "cell_type": "code",
   "execution_count": null,
   "metadata": {},
   "outputs": [],
   "source": [
    "from lionhub.huggingface.classifier import get_huggingface_classifier\n",
    "\n",
    "classifier = get_huggingface_classifier()\n",
    "\n",
    "text = '...'\n",
    "result = classifier(text)\n",
    "\n",
    "print(str(result[0]))"
   ]
  }
 ],
 "metadata": {
  "language_info": {
   "name": "python"
  }
 },
 "nbformat": 4,
 "nbformat_minor": 2
}
